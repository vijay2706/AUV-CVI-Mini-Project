{
 "cells": [
  {
   "cell_type": "code",
   "execution_count": 13,
   "metadata": {},
   "outputs": [],
   "source": [
    "from keras.preprocessing.image import ImageDataGenerator"
   ]
  },
  {
   "cell_type": "code",
   "execution_count": 14,
   "metadata": {},
   "outputs": [],
   "source": [
    "# splitting the training data into train and validation with the validation_split of 0.3\n",
    "image_gen = ImageDataGenerator(rotation_range = 30,\n",
    "                              width_shift_range=0.1,\n",
    "                              height_shift_range =0.1,\n",
    "                              rescale = 1/255,\n",
    "                              shear_range =0.2,\n",
    "                              zoom_range=0.2,\n",
    "                              horizontal_flip=True, \n",
    "                              fill_mode = 'nearest',\n",
    "                              validation_split = 0.3\n",
    "                              )"
   ]
  },
  {
   "cell_type": "code",
   "execution_count": 15,
   "metadata": {},
   "outputs": [],
   "source": [
    "train_data_dir ='Data for DL/Data/training'\n",
    "validation_data_dir = 'Data for DL/Data/training'"
   ]
  },
  {
   "cell_type": "code",
   "execution_count": 16,
   "metadata": {},
   "outputs": [
    {
     "name": "stdout",
     "output_type": "stream",
     "text": [
      "Found 4126 images belonging to 6 classes.\n"
     ]
    }
   ],
   "source": [
    "# generating the train data using the image_gen defined above and the the data is specified as \"training\" in the function.\n",
    "train_gen = image_gen.flow_from_directory(\n",
    "    train_data_dir,\n",
    "    target_size=(150,150),\n",
    "    batch_size = 16,\n",
    "    subset = 'training',\n",
    "    class_mode = 'categorical')"
   ]
  },
  {
   "cell_type": "code",
   "execution_count": 17,
   "metadata": {},
   "outputs": [
    {
     "name": "stdout",
     "output_type": "stream",
     "text": [
      "Found 1765 images belonging to 6 classes.\n"
     ]
    }
   ],
   "source": [
    "#  generating the validation data using the image_gen defined above and the the data is specified as \"validation\" in the function.\n",
    "validation_gen = image_gen.flow_from_directory(\n",
    "    validation_data_dir,\n",
    "    target_size=(150,150),\n",
    "    batch_size = 16,\n",
    "    subset = 'validation',\n",
    "    class_mode = 'categorical')"
   ]
  },
  {
   "cell_type": "code",
   "execution_count": 18,
   "metadata": {},
   "outputs": [],
   "source": [
    "from keras.models import Sequential"
   ]
  },
  {
   "cell_type": "code",
   "execution_count": 19,
   "metadata": {},
   "outputs": [],
   "source": [
    "from keras.layers import Activation,Dense, Dropout, Flatten,Conv2D, MaxPooling2D, BatchNormalization"
   ]
  },
  {
   "cell_type": "code",
   "execution_count": 20,
   "metadata": {},
   "outputs": [],
   "source": [
    "model = Sequential()\n",
    "\n",
    "model.add(Conv2D(filters = 32, kernel_size=(3,3), input_shape=(150,150,3),activation='relu'))\n",
    "model.add(BatchNormalization())\n",
    "model.add(MaxPooling2D(pool_size=(2,2)))\n",
    "model.add(Dropout(0.3))\n",
    "\n",
    "model.add(Conv2D(filters = 64, kernel_size=(3,3), input_shape=(150,150,3),activation='relu'))\n",
    "model.add(BatchNormalization())\n",
    "model.add(MaxPooling2D(pool_size=(2,2)))\n",
    "model.add(Dropout(0.5))\n",
    "\n",
    "model.add(Conv2D(filters = 64, kernel_size=(3,3), input_shape=(150,150,3),activation='relu'))\n",
    "model.add(BatchNormalization())\n",
    "model.add(MaxPooling2D(pool_size=(2,2)))\n",
    "model.add(Dropout(0.4))\n",
    "\n",
    "model.add(Conv2D(filters = 64, kernel_size=(3,3), input_shape=(150,150,3),activation='relu'))\n",
    "model.add(BatchNormalization())\n",
    "model.add(MaxPooling2D(pool_size=(2,2)))\n",
    "model.add(Dropout(0.3))\n",
    "\n",
    "model.add(Flatten())\n",
    "\n",
    "model.add(Dense(512))\n",
    "model.add(Activation('relu'))\n",
    "\n",
    "model.add(Dense(128))\n",
    "model.add(Activation('relu'))\n",
    "\n",
    "model.add(Dropout(0.4))\n",
    "\n",
    "model.add(Dense(6))\n",
    "model.add(Activation('softmax'))\n",
    "\n",
    "model.compile(loss='categorical_crossentropy',\n",
    "             optimizer='adam',\n",
    "             metrics=['accuracy'])"
   ]
  },
  {
   "cell_type": "code",
   "execution_count": 21,
   "metadata": {},
   "outputs": [
    {
     "name": "stdout",
     "output_type": "stream",
     "text": [
      "Epoch 1/10\n",
      "375/375 [==============================] - 1190s 3s/step - loss: 1.8972 - acc: 0.2095 - val_loss: 2.0070 - val_acc: 0.2034\n",
      "Epoch 2/10\n",
      "375/375 [==============================] - 1325s 4s/step - loss: 1.7841 - acc: 0.2190 - val_loss: 2.0032 - val_acc: 0.2000\n",
      "Epoch 3/10\n",
      "375/375 [==============================] - 2075s 6s/step - loss: 1.7820 - acc: 0.2200 - val_loss: 1.9822 - val_acc: 0.2113\n",
      "Epoch 4/10\n",
      "375/375 [==============================] - 1431s 4s/step - loss: 1.7815 - acc: 0.2182 - val_loss: 1.9931 - val_acc: 0.2074\n",
      "Epoch 5/10\n",
      "375/375 [==============================] - 1237s 3s/step - loss: 1.7812 - acc: 0.2200 - val_loss: 1.9642 - val_acc: 0.2181\n",
      "Epoch 6/10\n",
      "375/375 [==============================] - 1120s 3s/step - loss: 1.7809 - acc: 0.2215 - val_loss: 1.9752 - val_acc: 0.2142\n",
      "Epoch 7/10\n",
      "375/375 [==============================] - 1111s 3s/step - loss: 1.7809 - acc: 0.2200 - val_loss: 1.9709 - val_acc: 0.2187\n",
      "Epoch 8/10\n",
      "375/375 [==============================] - 1153s 3s/step - loss: 1.7823 - acc: 0.2162 - val_loss: 1.9776 - val_acc: 0.2108\n",
      "Epoch 9/10\n",
      "375/375 [==============================] - 1118s 3s/step - loss: 1.7807 - acc: 0.2215 - val_loss: 1.9845 - val_acc: 0.2170\n",
      "Epoch 10/10\n",
      "375/375 [==============================] - 1083s 3s/step - loss: 1.7828 - acc: 0.2160 - val_loss: 1.9763 - val_acc: 0.2108\n"
     ]
    }
   ],
   "source": [
    "results1= model.fit_generator(train_gen, steps_per_epoch =375, epochs=10, validation_data= validation_gen, validation_steps =130)"
   ]
  },
  {
   "cell_type": "code",
   "execution_count": 26,
   "metadata": {},
   "outputs": [],
   "source": [
    "import matplotlib.pyplot as plt"
   ]
  },
  {
   "cell_type": "code",
   "execution_count": 29,
   "metadata": {},
   "outputs": [
    {
     "data": {
      "text/plain": [
       "[<matplotlib.lines.Line2D at 0x1f2875efc50>]"
      ]
     },
     "execution_count": 29,
     "metadata": {},
     "output_type": "execute_result"
    },
    {
     "data": {
      "image/png": "[encoded data removed]",
      "text/plain": [
       "<Figure size 432x288 with 1 Axes>"
      ]
     },
     "metadata": {
      "needs_background": "light"
     },
     "output_type": "display_data"
    }
   ],
   "source": [
    "plt.plot(results1.history['acc'])"
   ]
  },
  {
   "cell_type": "code",
   "execution_count": 38,
   "metadata": {},
   "outputs": [
    {
     "data": {
      "text/plain": [
       "[<matplotlib.lines.Line2D at 0x1f287a66160>]"
      ]
     },
     "execution_count": 38,
     "metadata": {},
     "output_type": "execute_result"
    },
    {
     "data": {
      "image/png": "[encoded data removed]",
      "text/plain": [
       "<Figure size 432x288 with 1 Axes>"
      ]
     },
     "metadata": {
      "needs_background": "light"
     },
     "output_type": "display_data"
    }
   ],
   "source": [
    "plt.plot(results1.history['val_acc'])"
   ]
  },
  {
   "cell_type": "code",
   "execution_count": 39,
   "metadata": {},
   "outputs": [
    {
     "data": {
      "text/plain": [
       "<matplotlib.legend.Legend at 0x1f287b4a5f8>"
      ]
     },
     "execution_count": 39,
     "metadata": {},
     "output_type": "execute_result"
    },
    {
     "data": {
      "image/png": "[encoded data removed]",
      "text/plain": [
       "<Figure size 432x288 with 1 Axes>"
      ]
     },
     "metadata": {
      "needs_background": "light"
     },
     "output_type": "display_data"
    }
   ],
   "source": [
    "plt.figure()\n",
    "plt.plot(np.arange(0, 10), results1.history[\"acc\"], label=\"train_acc\")\n",
    "plt.plot(np.arange(0, 10), results1.history[\"val_acc\"], label=\"val_acc\")\n",
    "plt.title(\"Accuracy of training and validation data\")\n",
    "plt.xlabel(\"Epoch #\")\n",
    "plt.ylabel(\"Accuracy\")\n",
    "plt.legend(loc=\"upper left\")"
   ]
  },
  {
   "cell_type": "code",
   "execution_count": 40,
   "metadata": {},
   "outputs": [
    {
     "data": {
      "text/plain": [
       "<matplotlib.legend.Legend at 0x1f287bad588>"
      ]
     },
     "execution_count": 40,
     "metadata": {},
     "output_type": "execute_result"
    },
    {
     "data": {
      "image/png": "[encoded data removed]",
      "text/plain": [
       "<Figure size 432x288 with 1 Axes>"
      ]
     },
     "metadata": {},
     "output_type": "display_data"
    }
   ],
   "source": [
    "plt.style.use(\"ggplot\")\n",
    "plt.figure()\n",
    "plt.plot(np.arange(0, 10), results1.history[\"loss\"], label=\"train_loss\")\n",
    "plt.plot(np.arange(0, 10), results1.history[\"val_loss\"], label=\"val_loss\")\n",
    "plt.plot(np.arange(0, 10), results1.history[\"acc\"], label=\"train_acc\")\n",
    "plt.plot(np.arange(0, 10), results1.history[\"val_acc\"], label=\"val_acc\")\n",
    "plt.title(\"Training Loss and Accuracy\")\n",
    "plt.xlabel(\"Epoch #\")\n",
    "plt.ylabel(\"Loss/Accuracy\")\n",
    "plt.legend(loc=\"upper left\")"
   ]
  },
  {
   "cell_type": "code",
   "execution_count": 41,
   "metadata": {},
   "outputs": [],
   "source": [
    "test_data_dir ='Data for DL/Data/testing'"
   ]
  },
  {
   "cell_type": "code",
   "execution_count": 42,
   "metadata": {},
   "outputs": [],
   "source": [
    "import numpy as np"
   ]
  },
  {
   "cell_type": "code",
   "execution_count": 44,
   "metadata": {},
   "outputs": [
    {
     "name": "stdout",
     "output_type": "stream",
     "text": [
      "Found 2546 images belonging to 6 classes.\n"
     ]
    }
   ],
   "source": [
    "desired_batch_size=16\n",
    "\n",
    "test_datagen = ImageDataGenerator(rescale=1./255)\n",
    "\n",
    "test_generator = test_datagen.flow_from_directory(\n",
    "        test_data_dir,\n",
    "        target_size=(150, 150),\n",
    "        color_mode=\"rgb\",\n",
    "        shuffle = False,\n",
    "        class_mode='categorical',\n",
    "        batch_size=desired_batch_size)\n",
    "\n",
    "filenames = test_generator.filenames\n",
    "nb_samples = len(filenames)\n",
    "\n",
    "predict = model.predict_generator(test_generator,steps = \n",
    "                                   np.ceil(nb_samples/desired_batch_size))"
   ]
  },
  {
   "cell_type": "code",
   "execution_count": 45,
   "metadata": {},
   "outputs": [
    {
     "data": {
      "text/plain": [
       "array([0.1386087 , 0.31700984, 0.17404738, 0.11345492, 0.1130134 ,\n",
       "       0.14386576], dtype=float32)"
      ]
     },
     "execution_count": 45,
     "metadata": {},
     "output_type": "execute_result"
    }
   ],
   "source": [
    "predict[0]"
   ]
  },
  {
   "cell_type": "code",
   "execution_count": 46,
   "metadata": {},
   "outputs": [],
   "source": [
    "def convert_to_class(y_one_hot, dtype=int):\n",
    "    \"\"\" Converts a one-hot class encoding (array with as many positions as total\n",
    "        classes, with 1 in the corresponding class position, 0 in the other positions),\n",
    "        or soft-max class encoding (array with as many positions as total\n",
    "        classes, whose largest valued position is used as class membership)\n",
    "        to an integer class encoding.\n",
    "\n",
    "        Parameters\n",
    "        ----------\n",
    "        y_one_hot : numpy array\n",
    "            Input array with one-hot or soft-max class encoding.\n",
    "        dtype : data type\n",
    "            Data type to use for the output numpy array.\n",
    "            (Default: int, integer data is used to represent the\n",
    "            class membership).\n",
    "\n",
    "        Return\n",
    "        ----------\n",
    "        Returns a numpy array with an integer class encoding.\n",
    "    \"\"\"\n",
    "\n",
    "    maxi = lambda a: a.argmax()\n",
    "    iter_to_na = lambda i: np.fromiter(i, dtype=dtype)\n",
    "    return np.array([maxi(a) for a in y_one_hot])\n"
   ]
  },
  {
   "cell_type": "code",
   "execution_count": 48,
   "metadata": {},
   "outputs": [],
   "source": [
    "actual = test_generator.classes\n",
    "predicted_classes = convert_to_class(predict)"
   ]
  },
  {
   "cell_type": "code",
   "execution_count": 49,
   "metadata": {},
   "outputs": [
    {
     "data": {
      "text/plain": [
       "array([0, 0, 0, ..., 5, 5, 5])"
      ]
     },
     "execution_count": 49,
     "metadata": {},
     "output_type": "execute_result"
    }
   ],
   "source": [
    "actual"
   ]
  },
  {
   "cell_type": "code",
   "execution_count": 50,
   "metadata": {},
   "outputs": [
    {
     "data": {
      "text/plain": [
       "array([1, 1, 2, ..., 2, 0, 0], dtype=int64)"
      ]
     },
     "execution_count": 50,
     "metadata": {},
     "output_type": "execute_result"
    }
   ],
   "source": [
    "predicted_classes"
   ]
  },
  {
   "cell_type": "code",
   "execution_count": 51,
   "metadata": {},
   "outputs": [],
   "source": [
    "from sklearn.metrics import confusion_matrix"
   ]
  },
  {
   "cell_type": "code",
   "execution_count": 52,
   "metadata": {},
   "outputs": [
    {
     "data": {
      "text/plain": [
       "array([[ 27, 307,  27,   4,  15,  19],\n",
       "       [ 56, 432,  43,   4,  17,   8],\n",
       "       [ 31, 254,  74,  11,  10,  35],\n",
       "       [ 63, 282,  33,   6,   4,   9],\n",
       "       [ 46, 317,  45,   2,   7,   6],\n",
       "       [ 62, 262,  14,   4,   6,   4]], dtype=int64)"
      ]
     },
     "execution_count": 52,
     "metadata": {},
     "output_type": "execute_result"
    }
   ],
   "source": [
    "confusion_matrix(actual, predicted_classes) "
   ]
  },
  {
   "cell_type": "code",
   "execution_count": 53,
   "metadata": {},
   "outputs": [],
   "source": [
    "from sklearn.metrics import classification_report"
   ]
  },
  {
   "cell_type": "code",
   "execution_count": 54,
   "metadata": {},
   "outputs": [
    {
     "name": "stdout",
     "output_type": "stream",
     "text": [
      "              precision    recall  f1-score   support\n",
      "\n",
      "           0       0.09      0.07      0.08       399\n",
      "           1       0.23      0.77      0.36       560\n",
      "           2       0.31      0.18      0.23       415\n",
      "           3       0.19      0.02      0.03       397\n",
      "           4       0.12      0.02      0.03       423\n",
      "           5       0.05      0.01      0.02       352\n",
      "\n",
      "    accuracy                           0.22      2546\n",
      "   macro avg       0.17      0.18      0.12      2546\n",
      "weighted avg       0.17      0.22      0.14      2546\n",
      "\n"
     ]
    }
   ],
   "source": [
    "print(classification_report(actual, predicted_classes))"
   ]
  },
  {
   "cell_type": "code",
   "execution_count": 56,
   "metadata": {},
   "outputs": [
    {
     "data": {
      "image/png": "[encoded data removed]",
      "text/plain": [
       "<Figure size 432x288 with 1 Axes>"
      ]
     },
     "metadata": {},
     "output_type": "display_data"
    }
   ],
   "source": [
    "labels, counts = np.unique( predicted_classes, return_counts=True)\n",
    "plt.bar(labels, counts, align='center')\n",
    "plt.gca().set_xticks(labels)\n",
    "plt.show()"
   ]
  },
  {
   "cell_type": "code",
   "execution_count": 3,
   "metadata": {},
   "outputs": [],
   "source": [
    "# the performance of the model is poor as we can see the plot."
   ]
  },
  {
   "cell_type": "code",
   "execution_count": null,
   "metadata": {},
   "outputs": [],
   "source": []
  }
 ],
 "metadata": {
  "kernelspec": {
   "display_name": "Python 3",
   "language": "python",
   "name": "python3"
  },
  "language_info": {
   "codemirror_mode": {
    "name": "ipython",
    "version": 3
   },
   "file_extension": ".py",
   "mimetype": "text/x-python",
   "name": "python",
   "nbconvert_exporter": "python",
   "pygments_lexer": "ipython3",
   "version": "3.6.6"
  }
 },
 "nbformat": 4,
 "nbformat_minor": 2
}
