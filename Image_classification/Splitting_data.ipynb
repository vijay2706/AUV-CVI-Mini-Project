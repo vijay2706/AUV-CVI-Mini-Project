{
 "cells": [
  {
   "cell_type": "code",
   "execution_count": 2,
   "metadata": {},
   "outputs": [
    {
     "data": {
      "image/png": "[encoded data removed]",
      "text/plain": [
       "<Figure size 720x576 with 1 Axes>"
      ]
     },
     "metadata": {
      "needs_background": "light"
     },
     "output_type": "display_data"
    }
   ],
   "source": [
    "# importing the required libraries\n",
    "import os\n",
    "import pandas as pd\n",
    "import random\n",
    "\n",
    "\n",
    "import numpy as np\n",
    "import seaborn as sns\n",
    "\n",
    "\n",
    "import matplotlib.pyplot as plt\n",
    "from matplotlib.image import imread\n",
    "import pathlib\n",
    "\n",
    "image_folder = ['drone', 'fighter-jet', 'helicopter', 'missile', 'passenger-plane','rocket']\n",
    "nimgs = {}\n",
    "for i in image_folder:                                 # iterating through all the images\n",
    "    nimages = len(os.listdir('Data for DL/'+i+'/'))        \n",
    "    nimgs[i]=nimages\n",
    "\n",
    "# bar plot of the data in different classes    \n",
    "plt.figure(figsize=(10, 8))\n",
    "plt.bar(range(len(nimgs)), list(nimgs.values()), align='center')\n",
    "plt.xticks(range(len(nimgs)), list(nimgs.keys()))\n",
    "plt.title('Distribution of different classes of Dataset')\n",
    "plt.show()\n",
    "\n"
   ]
  },
  {
   "cell_type": "code",
   "execution_count": 2,
   "metadata": {},
   "outputs": [],
   "source": [
    "# creating the different directories for testing and training for all the classes.\n",
    "\n",
    "try:\n",
    "    os.mkdir('Data for DL/Data')\n",
    "    os.mkdir('Data for DL/Data/training')\n",
    "    os.mkdir('Data for DL/Data/testing')\n",
    "    os.mkdir('Data for DL/Data/training/drone')\n",
    "    os.mkdir('Data for DL/Data/training/fighter-jet')\n",
    "    os.mkdir('Data for DL/Data/training/helicopter')\n",
    "    os.mkdir('Data for DL/Data/training/missile')\n",
    "    os.mkdir('Data for DL/Data/training/passenger-plane')\n",
    "    os.mkdir('Data for DL/Data/training/rocket')\n",
    "    os.mkdir('Data for DL/Data/testing/drone')\n",
    "    os.mkdir('Data for DL/Data/testing/fighter-jet')\n",
    "    os.mkdir('Data for DL/Data/testing/helicopter')\n",
    "    os.mkdir('Data for DL/Data/testing/missile')\n",
    "    os.mkdir('Data for DL/Data/testing/passenger-plane')\n",
    "    os.mkdir('Data for DL/Data/testing/rocket')\n",
    "except OSError:\n",
    "    pass          \n",
    "\n"
   ]
  },
  {
   "cell_type": "code",
   "execution_count": 3,
   "metadata": {},
   "outputs": [],
   "source": [
    "import shutil, os\n",
    "\n",
    "# defining the function which splits the total data into training and testing by providing split_size\n",
    "\n",
    "def split_data(SOURCE, TRAINING, TESTING, SPLIT_SIZE):\n",
    "    files = []\n",
    "    for filename in os.listdir(SOURCE):            # iterating through all the images\n",
    "        file = SOURCE + filename\n",
    "        if os.path.getsize(file) > 0:              # checking the size of file if its non-zero.\n",
    "            files.append(filename)\n",
    "        else:\n",
    "            print(filename + \" is zero length, so ignoring.\")\n",
    "\n",
    "    training_length = int(len(files) * SPLIT_SIZE)             # splitting data into train by multiplying the spli_size and the no. of all files.\n",
    "    test_length = int(len(files) - training_length)            # remaining data is classified as test data.\n",
    "    random.shuffle(files)\n",
    "    training_set = files[0:training_length]\n",
    "    test_set = files[training_length:]\n",
    "\n",
    "    for filename in training_set:     # iterating through tha training_data\n",
    "        this_file = SOURCE + filename\n",
    "        destination = TRAINING + filename\n",
    "        shutil.copyfile(this_file, destination)      # creating the copy of the file to the destination folder.\n",
    "\n",
    "    for filename in test_set:    # iterating through tha testing_data\n",
    "        this_file = SOURCE + filename\n",
    "        destination = TESTING + filename\n",
    "        shutil.copyfile(this_file, destination)       # creating the copy of the file to the destination folder.\n"
   ]
  },
  {
   "cell_type": "code",
   "execution_count": 4,
   "metadata": {},
   "outputs": [
    {
     "data": {
      "image/png": "[encoded data removed]",
      "text/plain": [
       "<Figure size 648x432 with 1 Axes>"
      ]
     },
     "metadata": {
      "needs_background": "light"
     },
     "output_type": "display_data"
    },
    {
     "name": "stdout",
     "output_type": "stream",
     "text": [
      "Training drone images are: 932\n",
      "Training fighter-jet images are: 1313\n",
      "Training helicopter images are: 975\n",
      "Training missile images are: 940\n",
      "Training passenger-plane images are: 996\n",
      "Training rocket images are: 830\n"
     ]
    }
   ],
   "source": [
    "\n",
    "\n",
    "PASSENGER_PLANE_SOURCE_DIR = 'Data for DL/passenger-plane/'\n",
    "TRAINING_PASSENGER_PLANE_DIR = 'Data for DL/Data/training/passenger-plane/'\n",
    "TEST_PASSENGER_PLANE_DIR = 'Data for DL/Data/testing/passenger-plane/'\n",
    "\n",
    "FIGHTER_JET_SOURCE_DIR = 'Data for DL/fighter-jet/'\n",
    "TRAINING_FIGHTER_JET_DIR = 'Data for DL/Data/training/fighter-jet/'\n",
    "TEST_FIGHTER_JET_DIR = 'Data for DL/Data/testing/fighter-jet/'\n",
    "\n",
    "MISSILE_SOURCE_DIR = 'Data for DL/missile/'\n",
    "TRAINING_MISSILE_DIR = 'Data for DL/Data/training/missile/'\n",
    "TEST_MISSILE_DIR = 'Data for DL/Data/testing/missile/'\n",
    "\n",
    "HELICOPTER_SOURCE_DIR = 'Data for DL/helicopter/'\n",
    "TRAINING_HELICOPTER_DIR = 'Data for DL/Data/training/helicopter/'\n",
    "TEST_HELICOPTER_DIR = 'Data for DL/Data/testing/helicopter/'\n",
    "\n",
    "ROCKET_SOURCE_DIR = 'Data for DL/rocket/'\n",
    "TRAINING_ROCKET_DIR = 'Data for DL/Data/training/rocket/'\n",
    "TEST_ROCKET_DIR = 'Data for DL/Data/testing/rocket/'\n",
    "\n",
    "DRONE_SOURCE_DIR = 'Data for DL/drone/'\n",
    "TRAINING_DRONE_DIR = 'Data for DL/Data/training/drone/'\n",
    "TEST_DRONE_DIR = 'Data for DL/Data/testing/drone/'\n",
    "\n",
    "\n",
    "split_size = .7            \n",
    "\n",
    "\n",
    "split_data(PASSENGER_PLANE_SOURCE_DIR, TRAINING_PASSENGER_PLANE_DIR, TEST_PASSENGER_PLANE_DIR, split_size)\n",
    "split_data(FIGHTER_JET_SOURCE_DIR, TRAINING_FIGHTER_JET_DIR, TEST_FIGHTER_JET_DIR, split_size)\n",
    "split_data(MISSILE_SOURCE_DIR, TRAINING_MISSILE_DIR, TEST_MISSILE_DIR, split_size)\n",
    "split_data(HELICOPTER_SOURCE_DIR, TRAINING_HELICOPTER_DIR, TEST_HELICOPTER_DIR, split_size)\n",
    "split_data(ROCKET_SOURCE_DIR, TRAINING_ROCKET_DIR, TEST_ROCKET_DIR, split_size)\n",
    "split_data(DRONE_SOURCE_DIR, TRAINING_DRONE_DIR, TEST_DRONE_DIR, split_size)\n",
    "\n",
    "\n",
    "nimgs = {}\n",
    "for i in image_folder:\n",
    "    nimages = len(os.listdir('Data for DL/Data/training/'+i+'/'))\n",
    "    nimgs[i]=nimages\n",
    "plt.figure(figsize=(9, 6))\n",
    "plt.bar(range(len(nimgs)), list(nimgs.values()), align='center')\n",
    "plt.xticks(range(len(nimgs)), list(nimgs.keys()))\n",
    "plt.title('Distribution of different classes in Training Dataset')\n",
    "plt.show()\n",
    "\n",
    "for i in ['drone', 'fighter-jet', 'helicopter', 'missile', 'passenger-plane','rocket']:\n",
    "    print('Training {} images are: '.format(i)+str(len(os.listdir('DAta for DL/Data/training/'+i+'/')))) \n"
   ]
  },
  {
   "cell_type": "code",
   "execution_count": 5,
   "metadata": {},
   "outputs": [
    {
     "data": {
      "image/png": "[encoded data removed]",
      "text/plain": [
       "<Figure size 648x432 with 1 Axes>"
      ]
     },
     "metadata": {
      "needs_background": "light"
     },
     "output_type": "display_data"
    },
    {
     "name": "stdout",
     "output_type": "stream",
     "text": [
      "Test drone images are: 400\n",
      "Test fighter-jet images are: 564\n",
      "Test helicopter images are: 418\n",
      "Test missile images are: 404\n",
      "Test passenger-plane images are: 428\n",
      "Test rocket images are: 356\n"
     ]
    }
   ],
   "source": [
    "nimgs = {}\n",
    "for i in image_folder:\n",
    "    nimages = len(os.listdir('Data for DL/Data/testing/'+i+'/'))\n",
    "    nimgs[i]=nimages\n",
    "plt.figure(figsize=(9, 6))\n",
    "plt.bar(range(len(nimgs)), list(nimgs.values()), align='center')\n",
    "plt.xticks(range(len(nimgs)), list(nimgs.keys()))\n",
    "plt.title('Distribution of different classes in Testing Dataset')\n",
    "plt.show()\n",
    "\n",
    "for i in ['drone', 'fighter-jet', 'helicopter', 'missile', 'passenger-plane','rocket']:\n",
    "    print('Test {} images are: '.format(i)+str(len(os.listdir('Data for DL/Data/testing/'+i+'/')))) \n",
    "\n"
   ]
  },
  {
   "cell_type": "code",
   "execution_count": null,
   "metadata": {},
   "outputs": [],
   "source": []
  },
  {
   "cell_type": "code",
   "execution_count": null,
   "metadata": {},
   "outputs": [],
   "source": []
  }
 ],
 "metadata": {
  "kernelspec": {
   "display_name": "Python 3",
   "language": "python",
   "name": "python3"
  },
  "language_info": {
   "codemirror_mode": {
    "name": "ipython",
    "version": 3
   },
   "file_extension": ".py",
   "mimetype": "text/x-python",
   "name": "python",
   "nbconvert_exporter": "python",
   "pygments_lexer": "ipython3",
   "version": "3.6.6"
  }
 },
 "nbformat": 4,
 "nbformat_minor": 2
}
