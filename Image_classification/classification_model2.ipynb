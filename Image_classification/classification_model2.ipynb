{
 "cells": [
  {
   "cell_type": "code",
   "execution_count": 2,
   "metadata": {},
   "outputs": [
    {
     "name": "stderr",
     "output_type": "stream",
     "text": [
      "Using TensorFlow backend.\n",
      "C:\\Users\\Pavan\\Anaconda3\\envs\\python-cvcourse\\lib\\site-packages\\tensorflow\\python\\framework\\dtypes.py:523: FutureWarning: Passing (type, 1) or '1type' as a synonym of type is deprecated; in a future version of numpy, it will be understood as (type, (1,)) / '(1,)type'.\n",
      "  _np_qint8 = np.dtype([(\"qint8\", np.int8, 1)])\n",
      "C:\\Users\\Pavan\\Anaconda3\\envs\\python-cvcourse\\lib\\site-packages\\tensorflow\\python\\framework\\dtypes.py:524: FutureWarning: Passing (type, 1) or '1type' as a synonym of type is deprecated; in a future version of numpy, it will be understood as (type, (1,)) / '(1,)type'.\n",
      "  _np_quint8 = np.dtype([(\"quint8\", np.uint8, 1)])\n",
      "C:\\Users\\Pavan\\Anaconda3\\envs\\python-cvcourse\\lib\\site-packages\\tensorflow\\python\\framework\\dtypes.py:525: FutureWarning: Passing (type, 1) or '1type' as a synonym of type is deprecated; in a future version of numpy, it will be understood as (type, (1,)) / '(1,)type'.\n",
      "  _np_qint16 = np.dtype([(\"qint16\", np.int16, 1)])\n",
      "C:\\Users\\Pavan\\Anaconda3\\envs\\python-cvcourse\\lib\\site-packages\\tensorflow\\python\\framework\\dtypes.py:526: FutureWarning: Passing (type, 1) or '1type' as a synonym of type is deprecated; in a future version of numpy, it will be understood as (type, (1,)) / '(1,)type'.\n",
      "  _np_quint16 = np.dtype([(\"quint16\", np.uint16, 1)])\n",
      "C:\\Users\\Pavan\\Anaconda3\\envs\\python-cvcourse\\lib\\site-packages\\tensorflow\\python\\framework\\dtypes.py:527: FutureWarning: Passing (type, 1) or '1type' as a synonym of type is deprecated; in a future version of numpy, it will be understood as (type, (1,)) / '(1,)type'.\n",
      "  _np_qint32 = np.dtype([(\"qint32\", np.int32, 1)])\n",
      "C:\\Users\\Pavan\\Anaconda3\\envs\\python-cvcourse\\lib\\site-packages\\tensorflow\\python\\framework\\dtypes.py:532: FutureWarning: Passing (type, 1) or '1type' as a synonym of type is deprecated; in a future version of numpy, it will be understood as (type, (1,)) / '(1,)type'.\n",
      "  np_resource = np.dtype([(\"resource\", np.ubyte, 1)])\n"
     ]
    }
   ],
   "source": [
    "from keras.preprocessing.image import ImageDataGenerator"
   ]
  },
  {
   "cell_type": "code",
   "execution_count": 3,
   "metadata": {},
   "outputs": [],
   "source": [
    "# # splitting the training data into train and validation with the validation_split of 0.3\n",
    "\n",
    "image_gen = ImageDataGenerator(rotation_range = 30,\n",
    "                              width_shift_range=0.1,\n",
    "                              height_shift_range =0.1,\n",
    "                              rescale = 1/255,\n",
    "                              shear_range =0.2,\n",
    "                              zoom_range=0.2,\n",
    "                              horizontal_flip=True, \n",
    "                              fill_mode = 'nearest',\n",
    "                              validation_split = 0.3\n",
    "                              )"
   ]
  },
  {
   "cell_type": "code",
   "execution_count": 4,
   "metadata": {},
   "outputs": [],
   "source": [
    "train_data_dir ='Data for DL/Data/training'    # path for the training data in training folder \n",
    "validation_data_dir = 'Data for DL/Data/testing'     # path for validation data in testing folder"
   ]
  },
  {
   "cell_type": "code",
   "execution_count": 12,
   "metadata": {},
   "outputs": [
    {
     "name": "stdout",
     "output_type": "stream",
     "text": [
      "Found 4126 images belonging to 6 classes.\n"
     ]
    }
   ],
   "source": [
    "# generating the train data using the image_gen defined above and the the data is specified as \"training\" in the function.\n",
    "train_gen = image_gen.flow_from_directory(\n",
    "    train_data_dir,\n",
    "    target_size=(150,150),\n",
    "    batch_size = 16,\n",
    "    subset = 'training',\n",
    "    class_mode = 'categorical')"
   ]
  },
  {
   "cell_type": "code",
   "execution_count": 13,
   "metadata": {},
   "outputs": [],
   "source": [
    "val_gen = ImageDataGenerator(rescale = 1./255)"
   ]
  },
  {
   "cell_type": "code",
   "execution_count": 14,
   "metadata": {},
   "outputs": [
    {
     "name": "stdout",
     "output_type": "stream",
     "text": [
      "Found 762 images belonging to 6 classes.\n"
     ]
    }
   ],
   "source": [
    "#  generating the validation data using the image_gen defined above and the the data is specified as \"validation\" in the function.\n",
    "validation_gen = image_gen.flow_from_directory(\n",
    "    validation_data_dir,\n",
    "    target_size=(150,150),\n",
    "    batch_size = 16,\n",
    "    subset = 'validation',\n",
    "    class_mode = 'categorical')"
   ]
  },
  {
   "cell_type": "code",
   "execution_count": 15,
   "metadata": {},
   "outputs": [],
   "source": [
    "from keras.models import Sequential"
   ]
  },
  {
   "cell_type": "code",
   "execution_count": 16,
   "metadata": {},
   "outputs": [],
   "source": [
    "from keras.layers import Activation,Dense, Dropout, Flatten,Conv2D, MaxPooling2D"
   ]
  },
  {
   "cell_type": "code",
   "execution_count": 17,
   "metadata": {},
   "outputs": [],
   "source": [
    "model = Sequential()\n",
    "\n",
    "model.add(Conv2D(filters = 32, kernel_size=(3,3), input_shape=(150,150,3),activation='relu'))\n",
    "model.add(MaxPooling2D(pool_size=(2,2)))\n",
    "\n",
    "model.add(Conv2D(filters = 64, kernel_size=(3,3), input_shape=(150,150,3),activation='relu'))\n",
    "model.add(MaxPooling2D(pool_size=(2,2)))\n",
    "\n",
    "model.add(Conv2D(filters = 64, kernel_size=(3,3), input_shape=(150,150,3),activation='relu'))\n",
    "model.add(MaxPooling2D(pool_size=(2,2)))\n",
    "\n",
    "model.add(Flatten())\n",
    "\n",
    "model.add(Dense(128))\n",
    "model.add(Activation('relu'))\n",
    "\n",
    "model.add(Dropout(0.5))\n",
    "\n",
    "model.add(Dense(6))\n",
    "model.add(Activation('softmax'))\n",
    "\n",
    "model.compile(loss='categorical_crossentropy',\n",
    "             optimizer='adam',\n",
    "             metrics=['accuracy'])"
   ]
  },
  {
   "cell_type": "code",
   "execution_count": 18,
   "metadata": {},
   "outputs": [
    {
     "name": "stdout",
     "output_type": "stream",
     "text": [
      "_________________________________________________________________\n",
      "Layer (type)                 Output Shape              Param #   \n",
      "=================================================================\n",
      "conv2d_4 (Conv2D)            (None, 148, 148, 32)      896       \n",
      "_________________________________________________________________\n",
      "max_pooling2d_4 (MaxPooling2 (None, 74, 74, 32)        0         \n",
      "_________________________________________________________________\n",
      "conv2d_5 (Conv2D)            (None, 72, 72, 64)        18496     \n",
      "_________________________________________________________________\n",
      "max_pooling2d_5 (MaxPooling2 (None, 36, 36, 64)        0         \n",
      "_________________________________________________________________\n",
      "conv2d_6 (Conv2D)            (None, 34, 34, 64)        36928     \n",
      "_________________________________________________________________\n",
      "max_pooling2d_6 (MaxPooling2 (None, 17, 17, 64)        0         \n",
      "_________________________________________________________________\n",
      "flatten_2 (Flatten)          (None, 18496)             0         \n",
      "_________________________________________________________________\n",
      "dense_3 (Dense)              (None, 128)               2367616   \n",
      "_________________________________________________________________\n",
      "activation_3 (Activation)    (None, 128)               0         \n",
      "_________________________________________________________________\n",
      "dropout_2 (Dropout)          (None, 128)               0         \n",
      "_________________________________________________________________\n",
      "dense_4 (Dense)              (None, 6)                 774       \n",
      "_________________________________________________________________\n",
      "activation_4 (Activation)    (None, 6)                 0         \n",
      "=================================================================\n",
      "Total params: 2,424,710\n",
      "Trainable params: 2,424,710\n",
      "Non-trainable params: 0\n",
      "_________________________________________________________________\n"
     ]
    }
   ],
   "source": [
    "model.summary()"
   ]
  },
  {
   "cell_type": "code",
   "execution_count": 19,
   "metadata": {},
   "outputs": [
    {
     "data": {
      "text/plain": [
       "{'drone': 0,\n",
       " 'fighter-jet': 1,\n",
       " 'helicopter': 2,\n",
       " 'missile': 3,\n",
       " 'passenger-plane': 4,\n",
       " 'rocket': 5}"
      ]
     },
     "execution_count": 19,
     "metadata": {},
     "output_type": "execute_result"
    }
   ],
   "source": [
    "train_gen.class_indices"
   ]
  },
  {
   "cell_type": "code",
   "execution_count": 20,
   "metadata": {},
   "outputs": [
    {
     "name": "stdout",
     "output_type": "stream",
     "text": [
      "Epoch 1/100\n",
      "375/375 [==============================] - 21653s 58s/step - loss: 1.7905 - acc: 0.2129 - val_loss: 1.7749 - val_acc: 0.2362\n",
      "Epoch 2/100\n",
      "375/375 [==============================] - 314s 837ms/step - loss: 1.7608 - acc: 0.2459 - val_loss: 1.6921 - val_acc: 0.2717\n",
      "Epoch 3/100\n",
      "375/375 [==============================] - 273s 729ms/step - loss: 1.7318 - acc: 0.2659 - val_loss: 1.6696 - val_acc: 0.3438\n",
      "Epoch 4/100\n",
      "375/375 [==============================] - 273s 729ms/step - loss: 1.6946 - acc: 0.3060 - val_loss: 1.6366 - val_acc: 0.3202\n",
      "Epoch 5/100\n",
      "375/375 [==============================] - 281s 748ms/step - loss: 1.6576 - acc: 0.3301 - val_loss: 1.5762 - val_acc: 0.3937\n",
      "Epoch 6/100\n",
      "375/375 [==============================] - 275s 733ms/step - loss: 1.6360 - acc: 0.3335 - val_loss: 1.5525 - val_acc: 0.4042\n",
      "Epoch 7/100\n",
      "375/375 [==============================] - 286s 762ms/step - loss: 1.6305 - acc: 0.3460 - val_loss: 1.5200 - val_acc: 0.4055\n",
      "Epoch 8/100\n",
      "375/375 [==============================] - 282s 751ms/step - loss: 1.6016 - acc: 0.3613 - val_loss: 1.5315 - val_acc: 0.3990\n",
      "Epoch 9/100\n",
      "375/375 [==============================] - 288s 768ms/step - loss: 1.5826 - acc: 0.3650 - val_loss: 1.5441 - val_acc: 0.3924\n",
      "Epoch 10/100\n",
      "375/375 [==============================] - 285s 761ms/step - loss: 1.5769 - acc: 0.3545 - val_loss: 1.4874 - val_acc: 0.4318\n",
      "Epoch 11/100\n",
      "375/375 [==============================] - 329s 878ms/step - loss: 1.5528 - acc: 0.3858 - val_loss: 1.4674 - val_acc: 0.4344\n",
      "Epoch 12/100\n",
      "375/375 [==============================] - 358s 955ms/step - loss: 1.5331 - acc: 0.3894 - val_loss: 1.4848 - val_acc: 0.4226\n",
      "Epoch 13/100\n",
      "375/375 [==============================] - 343s 916ms/step - loss: 1.5400 - acc: 0.3833 - val_loss: 1.4717 - val_acc: 0.4318\n",
      "Epoch 14/100\n",
      "375/375 [==============================] - 349s 931ms/step - loss: 1.5111 - acc: 0.4064 - val_loss: 1.4571 - val_acc: 0.4134\n",
      "Epoch 15/100\n",
      "375/375 [==============================] - 334s 890ms/step - loss: 1.5137 - acc: 0.3969 - val_loss: 1.4567 - val_acc: 0.4409\n",
      "Epoch 16/100\n",
      "375/375 [==============================] - 327s 872ms/step - loss: 1.4881 - acc: 0.4121 - val_loss: 1.4800 - val_acc: 0.4134\n",
      "Epoch 17/100\n",
      "375/375 [==============================] - 331s 884ms/step - loss: 1.4803 - acc: 0.4083 - val_loss: 1.4232 - val_acc: 0.4567\n",
      "Epoch 18/100\n",
      "375/375 [==============================] - 329s 877ms/step - loss: 1.4768 - acc: 0.4164 - val_loss: 1.4144 - val_acc: 0.4357\n",
      "Epoch 19/100\n",
      "375/375 [==============================] - 307s 819ms/step - loss: 1.4651 - acc: 0.4145 - val_loss: 1.4334 - val_acc: 0.4409\n",
      "Epoch 20/100\n",
      "375/375 [==============================] - 303s 808ms/step - loss: 1.4451 - acc: 0.4279 - val_loss: 1.4468 - val_acc: 0.4423\n",
      "Epoch 21/100\n",
      "375/375 [==============================] - 327s 873ms/step - loss: 1.4614 - acc: 0.4245 - val_loss: 1.4106 - val_acc: 0.4186\n",
      "Epoch 22/100\n",
      "375/375 [==============================] - 383s 1s/step - loss: 1.4525 - acc: 0.4293 - val_loss: 1.4493 - val_acc: 0.4475\n",
      "Epoch 23/100\n",
      "375/375 [==============================] - 313s 836ms/step - loss: 1.4300 - acc: 0.4315 - val_loss: 1.3986 - val_acc: 0.4685\n",
      "Epoch 24/100\n",
      "375/375 [==============================] - 299s 797ms/step - loss: 1.4213 - acc: 0.4437 - val_loss: 1.5098 - val_acc: 0.4357\n",
      "Epoch 25/100\n",
      "375/375 [==============================] - 296s 789ms/step - loss: 1.4342 - acc: 0.4337 - val_loss: 1.4311 - val_acc: 0.4738\n",
      "Epoch 26/100\n",
      "375/375 [==============================] - 267s 713ms/step - loss: 1.4214 - acc: 0.4405 - val_loss: 1.3843 - val_acc: 0.4751\n",
      "Epoch 27/100\n",
      "375/375 [==============================] - 272s 725ms/step - loss: 1.4157 - acc: 0.4340 - val_loss: 1.3818 - val_acc: 0.4724\n",
      "Epoch 28/100\n",
      "375/375 [==============================] - 270s 720ms/step - loss: 1.4056 - acc: 0.4499 - val_loss: 1.4387 - val_acc: 0.4633\n",
      "Epoch 29/100\n",
      "375/375 [==============================] - 296s 790ms/step - loss: 1.3904 - acc: 0.4528 - val_loss: 1.4659 - val_acc: 0.4462\n",
      "Epoch 30/100\n",
      "375/375 [==============================] - 264s 703ms/step - loss: 1.4113 - acc: 0.4474 - val_loss: 1.3970 - val_acc: 0.4606\n",
      "Epoch 31/100\n",
      "375/375 [==============================] - 256s 683ms/step - loss: 1.3707 - acc: 0.4599 - val_loss: 1.4250 - val_acc: 0.4554\n",
      "Epoch 32/100\n",
      "375/375 [==============================] - 260s 695ms/step - loss: 1.3800 - acc: 0.4531 - val_loss: 1.3699 - val_acc: 0.4764\n",
      "Epoch 33/100\n",
      "375/375 [==============================] - 254s 677ms/step - loss: 1.3756 - acc: 0.4535 - val_loss: 1.3778 - val_acc: 0.4895\n",
      "Epoch 34/100\n",
      "375/375 [==============================] - 257s 685ms/step - loss: 1.3744 - acc: 0.4500 - val_loss: 1.3511 - val_acc: 0.4606\n",
      "Epoch 35/100\n",
      "375/375 [==============================] - 285s 759ms/step - loss: 1.3584 - acc: 0.4644 - val_loss: 1.3833 - val_acc: 0.4646\n",
      "Epoch 36/100\n",
      "375/375 [==============================] - 272s 725ms/step - loss: 1.3679 - acc: 0.4643 - val_loss: 1.3889 - val_acc: 0.4659\n",
      "Epoch 37/100\n",
      "375/375 [==============================] - 267s 712ms/step - loss: 1.3534 - acc: 0.4629 - val_loss: 1.3666 - val_acc: 0.4921\n",
      "Epoch 38/100\n",
      "375/375 [==============================] - 291s 776ms/step - loss: 1.3667 - acc: 0.4651 - val_loss: 1.3715 - val_acc: 0.4843\n",
      "Epoch 39/100\n",
      "375/375 [==============================] - 264s 703ms/step - loss: 1.3567 - acc: 0.4647 - val_loss: 1.3765 - val_acc: 0.4501\n",
      "Epoch 40/100\n",
      "375/375 [==============================] - 284s 756ms/step - loss: 1.3392 - acc: 0.4720 - val_loss: 1.3852 - val_acc: 0.4554\n",
      "Epoch 41/100\n",
      "375/375 [==============================] - 406s 1s/step - loss: 1.3454 - acc: 0.4630 - val_loss: 1.3676 - val_acc: 0.4554\n",
      "Epoch 42/100\n",
      "375/375 [==============================] - 354s 945ms/step - loss: 1.3545 - acc: 0.4650 - val_loss: 1.3564 - val_acc: 0.4764\n",
      "Epoch 43/100\n",
      "375/375 [==============================] - 270s 721ms/step - loss: 1.3227 - acc: 0.4793 - val_loss: 1.3686 - val_acc: 0.4961\n",
      "Epoch 44/100\n",
      "375/375 [==============================] - 289s 772ms/step - loss: 1.3378 - acc: 0.4686 - val_loss: 1.3903 - val_acc: 0.4908\n",
      "Epoch 45/100\n",
      "375/375 [==============================] - 319s 851ms/step - loss: 1.3225 - acc: 0.4820 - val_loss: 1.4088 - val_acc: 0.4593\n",
      "Epoch 46/100\n",
      "375/375 [==============================] - 402s 1s/step - loss: 1.3199 - acc: 0.4802 - val_loss: 1.3859 - val_acc: 0.4777\n",
      "Epoch 47/100\n",
      "375/375 [==============================] - 318s 847ms/step - loss: 1.3100 - acc: 0.4860 - val_loss: 1.4098 - val_acc: 0.4738\n",
      "Epoch 48/100\n",
      "375/375 [==============================] - 310s 827ms/step - loss: 1.3196 - acc: 0.4843 - val_loss: 1.3552 - val_acc: 0.4934\n",
      "Epoch 49/100\n",
      "375/375 [==============================] - 337s 897ms/step - loss: 1.3003 - acc: 0.4976 - val_loss: 1.3705 - val_acc: 0.4803\n",
      "Epoch 50/100\n",
      "375/375 [==============================] - 312s 832ms/step - loss: 1.3255 - acc: 0.4790 - val_loss: 1.3455 - val_acc: 0.4869\n",
      "Epoch 51/100\n",
      "375/375 [==============================] - 329s 878ms/step - loss: 1.2947 - acc: 0.4905 - val_loss: 1.3311 - val_acc: 0.4961\n",
      "Epoch 52/100\n",
      "375/375 [==============================] - 322s 859ms/step - loss: 1.3072 - acc: 0.4853 - val_loss: 1.3732 - val_acc: 0.4908\n",
      "Epoch 53/100\n",
      "375/375 [==============================] - 317s 845ms/step - loss: 1.2823 - acc: 0.4945 - val_loss: 1.4112 - val_acc: 0.4633\n",
      "Epoch 54/100\n",
      "375/375 [==============================] - 301s 802ms/step - loss: 1.2969 - acc: 0.4954 - val_loss: 1.3786 - val_acc: 0.4974\n",
      "Epoch 55/100\n",
      "375/375 [==============================] - 304s 810ms/step - loss: 1.2979 - acc: 0.4879 - val_loss: 1.3732 - val_acc: 0.4606\n",
      "Epoch 56/100\n",
      "375/375 [==============================] - 320s 853ms/step - loss: 1.2837 - acc: 0.4910 - val_loss: 1.3973 - val_acc: 0.4751\n",
      "Epoch 57/100\n",
      "375/375 [==============================] - 492s 1s/step - loss: 1.3062 - acc: 0.4817 - val_loss: 1.3493 - val_acc: 0.4843\n",
      "Epoch 58/100\n",
      "375/375 [==============================] - 383s 1s/step - loss: 1.2924 - acc: 0.4964 - val_loss: 1.3189 - val_acc: 0.4895\n",
      "Epoch 59/100\n",
      "375/375 [==============================] - 328s 875ms/step - loss: 1.2617 - acc: 0.5050 - val_loss: 1.4180 - val_acc: 0.4633\n",
      "Epoch 60/100\n",
      "375/375 [==============================] - 308s 822ms/step - loss: 1.2766 - acc: 0.5032 - val_loss: 1.4097 - val_acc: 0.4567\n",
      "Epoch 61/100\n",
      "375/375 [==============================] - 350s 933ms/step - loss: 1.2714 - acc: 0.4991 - val_loss: 1.3759 - val_acc: 0.4895\n",
      "Epoch 62/100\n",
      "375/375 [==============================] - 408s 1s/step - loss: 1.2669 - acc: 0.4970 - val_loss: 1.3583 - val_acc: 0.5066\n",
      "Epoch 63/100\n",
      "375/375 [==============================] - 431s 1s/step - loss: 1.2632 - acc: 0.5022 - val_loss: 1.3689 - val_acc: 0.4803\n",
      "Epoch 64/100\n",
      "375/375 [==============================] - 348s 929ms/step - loss: 1.2633 - acc: 0.5049 - val_loss: 1.3645 - val_acc: 0.4764\n",
      "Epoch 65/100\n",
      "375/375 [==============================] - 310s 828ms/step - loss: 1.2783 - acc: 0.5012 - val_loss: 1.3371 - val_acc: 0.4987\n",
      "Epoch 66/100\n",
      "375/375 [==============================] - 303s 807ms/step - loss: 1.2459 - acc: 0.5142 - val_loss: 1.3575 - val_acc: 0.4843\n",
      "Epoch 67/100\n",
      "375/375 [==============================] - 307s 817ms/step - loss: 1.2549 - acc: 0.5097 - val_loss: 1.3804 - val_acc: 0.4921\n",
      "Epoch 68/100\n",
      "375/375 [==============================] - 303s 809ms/step - loss: 1.2548 - acc: 0.5095 - val_loss: 1.3527 - val_acc: 0.5105\n",
      "Epoch 69/100\n",
      "375/375 [==============================] - 301s 803ms/step - loss: 1.2423 - acc: 0.5088 - val_loss: 1.3433 - val_acc: 0.4869\n",
      "Epoch 70/100\n",
      "375/375 [==============================] - 335s 892ms/step - loss: 1.2563 - acc: 0.4989 - val_loss: 1.3498 - val_acc: 0.5000\n",
      "Epoch 71/100\n",
      "375/375 [==============================] - 317s 846ms/step - loss: 1.2410 - acc: 0.5133 - val_loss: 1.3594 - val_acc: 0.4908\n",
      "Epoch 72/100\n",
      "375/375 [==============================] - 303s 808ms/step - loss: 1.2382 - acc: 0.5199 - val_loss: 1.3691 - val_acc: 0.4803\n",
      "Epoch 73/100\n",
      "375/375 [==============================] - 309s 824ms/step - loss: 1.2221 - acc: 0.5226 - val_loss: 1.4031 - val_acc: 0.4869\n",
      "Epoch 74/100\n",
      "375/375 [==============================] - 306s 817ms/step - loss: 1.2108 - acc: 0.5242 - val_loss: 1.4233 - val_acc: 0.4974\n",
      "Epoch 75/100\n",
      "375/375 [==============================] - 312s 831ms/step - loss: 1.2387 - acc: 0.5076 - val_loss: 1.4248 - val_acc: 0.4751\n",
      "Epoch 76/100\n",
      "375/375 [==============================] - 305s 814ms/step - loss: 1.2279 - acc: 0.5248 - val_loss: 1.4858 - val_acc: 0.4764\n",
      "Epoch 77/100\n",
      "375/375 [==============================] - 299s 796ms/step - loss: 1.2318 - acc: 0.5221 - val_loss: 1.4234 - val_acc: 0.4764\n",
      "Epoch 78/100\n",
      "375/375 [==============================] - 300s 799ms/step - loss: 1.2323 - acc: 0.5154 - val_loss: 1.4146 - val_acc: 0.5013\n",
      "Epoch 79/100\n",
      "375/375 [==============================] - 295s 786ms/step - loss: 1.2177 - acc: 0.5213 - val_loss: 1.4017 - val_acc: 0.4961\n",
      "Epoch 80/100\n",
      "375/375 [==============================] - 291s 775ms/step - loss: 1.2049 - acc: 0.5331 - val_loss: 1.3854 - val_acc: 0.5171\n",
      "Epoch 81/100\n",
      "375/375 [==============================] - 291s 776ms/step - loss: 1.2072 - acc: 0.5317 - val_loss: 1.3863 - val_acc: 0.5052\n",
      "Epoch 82/100\n",
      "375/375 [==============================] - 297s 792ms/step - loss: 1.2401 - acc: 0.5075 - val_loss: 1.4045 - val_acc: 0.5131\n",
      "Epoch 83/100\n",
      "375/375 [==============================] - 287s 766ms/step - loss: 1.2394 - acc: 0.5166 - val_loss: 1.4107 - val_acc: 0.4882\n",
      "Epoch 84/100\n",
      "375/375 [==============================] - 292s 778ms/step - loss: 1.2275 - acc: 0.5105 - val_loss: 1.3609 - val_acc: 0.4895\n",
      "Epoch 85/100\n",
      "375/375 [==============================] - 290s 773ms/step - loss: 1.2080 - acc: 0.5275 - val_loss: 1.3572 - val_acc: 0.5131\n",
      "Epoch 86/100\n",
      "375/375 [==============================] - 292s 779ms/step - loss: 1.2085 - acc: 0.5258 - val_loss: 1.4777 - val_acc: 0.4908\n",
      "Epoch 87/100\n",
      "375/375 [==============================] - 289s 770ms/step - loss: 1.2043 - acc: 0.5263 - val_loss: 1.4374 - val_acc: 0.4738\n",
      "Epoch 88/100\n",
      "375/375 [==============================] - 310s 826ms/step - loss: 1.2031 - acc: 0.5210 - val_loss: 1.4983 - val_acc: 0.4790\n",
      "Epoch 89/100\n",
      "375/375 [==============================] - 312s 832ms/step - loss: 1.2211 - acc: 0.5178 - val_loss: 1.4543 - val_acc: 0.4856\n",
      "Epoch 90/100\n",
      "375/375 [==============================] - 331s 881ms/step - loss: 1.1974 - acc: 0.5323 - val_loss: 1.5358 - val_acc: 0.4829\n",
      "Epoch 91/100\n",
      "375/375 [==============================] - 385s 1s/step - loss: 1.1924 - acc: 0.5374 - val_loss: 1.4298 - val_acc: 0.5066\n",
      "Epoch 92/100\n",
      "375/375 [==============================] - 327s 873ms/step - loss: 1.1826 - acc: 0.5376 - val_loss: 1.4114 - val_acc: 0.4948\n",
      "Epoch 93/100\n",
      "375/375 [==============================] - 284s 758ms/step - loss: 1.1739 - acc: 0.5390 - val_loss: 1.4543 - val_acc: 0.4829\n",
      "Epoch 94/100\n",
      "375/375 [==============================] - 297s 792ms/step - loss: 1.1880 - acc: 0.5329 - val_loss: 1.4042 - val_acc: 0.4961\n",
      "Epoch 95/100\n",
      "375/375 [==============================] - 285s 761ms/step - loss: 1.1775 - acc: 0.5360 - val_loss: 1.4795 - val_acc: 0.5052\n",
      "Epoch 96/100\n",
      "375/375 [==============================] - 336s 895ms/step - loss: 1.1738 - acc: 0.5413 - val_loss: 1.3562 - val_acc: 0.4961\n",
      "Epoch 97/100\n",
      "375/375 [==============================] - 357s 952ms/step - loss: 1.1890 - acc: 0.5267 - val_loss: 1.4609 - val_acc: 0.4882\n",
      "Epoch 98/100\n",
      "375/375 [==============================] - 308s 823ms/step - loss: 1.1671 - acc: 0.5332 - val_loss: 1.4390 - val_acc: 0.4961\n",
      "Epoch 99/100\n",
      "375/375 [==============================] - 331s 884ms/step - loss: 1.1815 - acc: 0.5391 - val_loss: 1.3806 - val_acc: 0.4829\n",
      "Epoch 100/100\n",
      "375/375 [==============================] - 312s 831ms/step - loss: 1.1842 - acc: 0.5387 - val_loss: 1.4374 - val_acc: 0.4803\n"
     ]
    }
   ],
   "source": [
    "results= model.fit_generator(train_gen, steps_per_epoch =375, epochs=100, validation_data= validation_gen, validation_steps =130)\n"
   ]
  },
  {
   "cell_type": "code",
   "execution_count": 28,
   "metadata": {},
   "outputs": [],
   "source": [
    "import numpy as np"
   ]
  },
  {
   "cell_type": "code",
   "execution_count": 29,
   "metadata": {},
   "outputs": [],
   "source": [
    "import matplotlib.pyplot as plt"
   ]
  },
  {
   "cell_type": "code",
   "execution_count": 30,
   "metadata": {},
   "outputs": [
    {
     "data": {
      "text/plain": [
       "[<matplotlib.lines.Line2D at 0x18fa61b7278>]"
      ]
     },
     "execution_count": 30,
     "metadata": {},
     "output_type": "execute_result"
    },
    {
     "data": {
      "image/png": "[encoded data removed]",
      "text/plain": [
       "<Figure size 432x288 with 1 Axes>"
      ]
     },
     "metadata": {
      "needs_background": "light"
     },
     "output_type": "display_data"
    }
   ],
   "source": [
    "plt.plot(results.history['acc'])"
   ]
  },
  {
   "cell_type": "code",
   "execution_count": 31,
   "metadata": {},
   "outputs": [
    {
     "data": {
      "text/plain": [
       "[<matplotlib.lines.Line2D at 0x18fa62170b8>]"
      ]
     },
     "execution_count": 31,
     "metadata": {},
     "output_type": "execute_result"
    },
    {
     "data": {
      "image/png": "[encoded data removed]",
      "text/plain": [
       "<Figure size 432x288 with 1 Axes>"
      ]
     },
     "metadata": {
      "needs_background": "light"
     },
     "output_type": "display_data"
    }
   ],
   "source": [
    "plt.plot(results.history['val_acc'])"
   ]
  },
  {
   "cell_type": "code",
   "execution_count": 32,
   "metadata": {},
   "outputs": [
    {
     "data": {
      "text/plain": [
       "<matplotlib.legend.Legend at 0x18fa62735c0>"
      ]
     },
     "execution_count": 32,
     "metadata": {},
     "output_type": "execute_result"
    },
    {
     "data": {
      "image/png": "[encoded data removed]",
      "text/plain": [
       "<Figure size 432x288 with 1 Axes>"
      ]
     },
     "metadata": {
      "needs_background": "light"
     },
     "output_type": "display_data"
    }
   ],
   "source": [
    "plt.figure()\n",
    "plt.plot(np.arange(0, 100), results.history[\"acc\"], label=\"train_acc\")\n",
    "plt.plot(np.arange(0, 100), results.history[\"val_acc\"], label=\"val_acc\")\n",
    "plt.title(\"Accuracy of training and validation data\")\n",
    "plt.xlabel(\"Epoch #\")\n",
    "plt.ylabel(\"Accuracy\")\n",
    "plt.legend(loc=\"upper left\")"
   ]
  },
  {
   "cell_type": "code",
   "execution_count": 34,
   "metadata": {},
   "outputs": [],
   "source": [
    "model.save('cvi.h5')"
   ]
  },
  {
   "cell_type": "code",
   "execution_count": 40,
   "metadata": {},
   "outputs": [],
   "source": [
    "test_data_dir ='Data for DL/Data/training'"
   ]
  },
  {
   "cell_type": "code",
   "execution_count": 47,
   "metadata": {},
   "outputs": [
    {
     "name": "stdout",
     "output_type": "stream",
     "text": [
      "Found 1765 images belonging to 6 classes.\n"
     ]
    }
   ],
   "source": [
    "testing_gen = image_gen.flow_from_directory(\n",
    "                        test_data_dir,\n",
    "                        target_size=(150,150),\n",
    "                        batch_size = 16,\n",
    "                        subset = 'validation',\n",
    "                        class_mode = 'categorical')\n"
   ]
  },
  {
   "cell_type": "code",
   "execution_count": 51,
   "metadata": {},
   "outputs": [
    {
     "name": "stdout",
     "output_type": "stream",
     "text": [
      "Found 1765 images belonging to 6 classes.\n",
      "1765\n"
     ]
    }
   ],
   "source": [
    "desired_batch_size=16\n",
    "\n",
    "# used the data which is splitted using IMageDataGenerator into validation above..as i mentioned subset as 'validation'\n",
    "testing_gen = image_gen.flow_from_directory(\n",
    "                        test_data_dir,\n",
    "                        target_size=(150,150),\n",
    "                        batch_size = 16,\n",
    "                        subset = 'validation',\n",
    "                        shuffle=False,\n",
    "                        class_mode = 'categorical')\n",
    "\n",
    "\n",
    "filenames = testing_gen.filenames\n",
    "nb_samples = len(filenames)\n",
    "print(nb_samples)\n",
    "predict = model.predict_generator(testing_gen,steps = np.ceil(nb_samples/desired_batch_size))"
   ]
  },
  {
   "cell_type": "code",
   "execution_count": 88,
   "metadata": {},
   "outputs": [
    {
     "data": {
      "text/plain": [
       "array([0.37636486, 0.06032864, 0.00201241, 0.00849849, 0.5222699 ,\n",
       "       0.03052575], dtype=float32)"
      ]
     },
     "execution_count": 88,
     "metadata": {},
     "output_type": "execute_result"
    }
   ],
   "source": [
    "predict[0]"
   ]
  },
  {
   "cell_type": "code",
   "execution_count": 53,
   "metadata": {},
   "outputs": [],
   "source": [
    "def convert_to_class(y_one_hot, dtype=int):\n",
    "    \"\"\" Converts a one-hot class encoding (array with as many positions as total\n",
    "        classes, with 1 in the corresponding class position, 0 in the other positions),\n",
    "        or soft-max class encoding (array with as many positions as total\n",
    "        classes, whose largest valued position is used as class membership)\n",
    "        to an integer class encoding.\n",
    "\n",
    "        Parameters\n",
    "        ----------\n",
    "        y_one_hot : numpy array\n",
    "            Input array with one-hot or soft-max class encoding.\n",
    "        dtype : data type\n",
    "            Data type to use for the output numpy array.\n",
    "            (Default: int, integer data is used to represent the\n",
    "            class membership).\n",
    "\n",
    "        Return\n",
    "        ----------\n",
    "        Returns a numpy array with an integer class encoding.\n",
    "    \"\"\"\n",
    "\n",
    "    maxi = lambda a: a.argmax()\n",
    "    iter_to_na = lambda i: np.fromiter(i, dtype=dtype)\n",
    "    return np.array([maxi(a) for a in y_one_hot])\n",
    "\n"
   ]
  },
  {
   "cell_type": "code",
   "execution_count": 54,
   "metadata": {},
   "outputs": [],
   "source": [
    "actual = testing_gen.classes\n",
    "predicted_classes = convert_to_class(predict)"
   ]
  },
  {
   "cell_type": "code",
   "execution_count": 55,
   "metadata": {},
   "outputs": [
    {
     "data": {
      "text/plain": [
       "array([4, 1, 1, ..., 3, 1, 3], dtype=int64)"
      ]
     },
     "execution_count": 55,
     "metadata": {},
     "output_type": "execute_result"
    }
   ],
   "source": [
    "predicted_classes"
   ]
  },
  {
   "cell_type": "code",
   "execution_count": 56,
   "metadata": {},
   "outputs": [
    {
     "data": {
      "text/plain": [
       "array([0, 0, 0, ..., 5, 5, 5])"
      ]
     },
     "execution_count": 56,
     "metadata": {},
     "output_type": "execute_result"
    }
   ],
   "source": [
    "actual"
   ]
  },
  {
   "cell_type": "code",
   "execution_count": 60,
   "metadata": {},
   "outputs": [],
   "source": [
    "from sklearn.metrics import confusion_matrix"
   ]
  },
  {
   "cell_type": "code",
   "execution_count": 61,
   "metadata": {},
   "outputs": [
    {
     "data": {
      "text/plain": [
       "array([[101,  71,  37,  17,  46,   1],\n",
       "       [ 34, 190,  16,  32,  81,  35],\n",
       "       [ 21,  26, 185,  24,  27,   1],\n",
       "       [ 11,  69,  11, 111,  48,  28],\n",
       "       [ 27,  47,  21,  13, 180,   8],\n",
       "       [  8,  10,   7, 136,  20,  65]], dtype=int64)"
      ]
     },
     "execution_count": 61,
     "metadata": {},
     "output_type": "execute_result"
    }
   ],
   "source": [
    "\n",
    "confusion_matrix(actual, predicted_classes) "
   ]
  },
  {
   "cell_type": "code",
   "execution_count": 62,
   "metadata": {},
   "outputs": [],
   "source": [
    "from sklearn.metrics import classification_report\n"
   ]
  },
  {
   "cell_type": "code",
   "execution_count": 63,
   "metadata": {},
   "outputs": [
    {
     "name": "stdout",
     "output_type": "stream",
     "text": [
      "             precision    recall  f1-score   support\n",
      "\n",
      "          0       0.50      0.37      0.43       273\n",
      "          1       0.46      0.49      0.47       388\n",
      "          2       0.67      0.65      0.66       284\n",
      "          3       0.33      0.40      0.36       278\n",
      "          4       0.45      0.61      0.52       296\n",
      "          5       0.47      0.26      0.34       246\n",
      "\n",
      "avg / total       0.48      0.47      0.47      1765\n",
      "\n"
     ]
    }
   ],
   "source": [
    "print(classification_report(actual, predicted_classes))"
   ]
  },
  {
   "cell_type": "code",
   "execution_count": 64,
   "metadata": {},
   "outputs": [
    {
     "data": {
      "image/png": "[encoded data removed]",
      "text/plain": [
       "<Figure size 432x288 with 1 Axes>"
      ]
     },
     "metadata": {
      "needs_background": "light"
     },
     "output_type": "display_data"
    }
   ],
   "source": [
    "labels, counts = np.unique(actual, return_counts=True)\n",
    "plt.bar(labels, counts, align='center')\n",
    "plt.gca().set_xticks(labels)\n",
    "plt.show()"
   ]
  },
  {
   "cell_type": "code",
   "execution_count": 65,
   "metadata": {},
   "outputs": [
    {
     "data": {
      "image/png": "[encoded data removed]",
      "text/plain": [
       "<Figure size 432x288 with 1 Axes>"
      ]
     },
     "metadata": {
      "needs_background": "light"
     },
     "output_type": "display_data"
    }
   ],
   "source": [
    "labels, counts = np.unique( predicted_classes, return_counts=True)\n",
    "plt.bar(labels, counts, align='center')\n",
    "plt.gca().set_xticks(labels)\n",
    "plt.show()"
   ]
  },
  {
   "cell_type": "code",
   "execution_count": 96,
   "metadata": {},
   "outputs": [
    {
     "data": {
      "text/plain": [
       "0"
      ]
     },
     "execution_count": 96,
     "metadata": {},
     "output_type": "execute_result"
    }
   ],
   "source": [
    "predict[5].argmax()"
   ]
  },
  {
   "cell_type": "code",
   "execution_count": 95,
   "metadata": {},
   "outputs": [
    {
     "data": {
      "text/plain": [
       "array([0.50411916, 0.44162214, 0.00443535, 0.00562858, 0.01267183,\n",
       "       0.03152293], dtype=float32)"
      ]
     },
     "execution_count": 95,
     "metadata": {},
     "output_type": "execute_result"
    }
   ],
   "source": [
    "predict[5]"
   ]
  },
  {
   "cell_type": "code",
   "execution_count": null,
   "metadata": {},
   "outputs": [],
   "source": []
  }
 ],
 "metadata": {
  "kernelspec": {
   "display_name": "Python 3",
   "language": "python",
   "name": "python3"
  },
  "language_info": {
   "codemirror_mode": {
    "name": "ipython",
    "version": 3
   },
   "file_extension": ".py",
   "mimetype": "text/x-python",
   "name": "python",
   "nbconvert_exporter": "python",
   "pygments_lexer": "ipython3",
   "version": "3.6.6"
  }
 },
 "nbformat": 4,
 "nbformat_minor": 2
}
