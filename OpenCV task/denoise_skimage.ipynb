{
 "cells": [
  {
   "cell_type": "code",
   "execution_count": 72,
   "metadata": {},
   "outputs": [],
   "source": [
    "#importing libraries and reading the image\n",
    "import numpy as np\n",
    "import cv2 \n",
    "from matplotlib import pyplot as plt\n",
    "img = cv.imread('imgnoi.jpg')\n",
    "img = cv.resize(img, (1500,1920))\n"
   ]
  },
  {
   "cell_type": "code",
   "execution_count": 73,
   "metadata": {},
   "outputs": [],
   "source": [
    "# I imported the image 'imgnoi.jpg' which is denoised using denoise_nl_means, skimage and performed canny detection to that image and then used it to perform Hough transformation."
   ]
  },
  {
   "cell_type": "code",
   "execution_count": 74,
   "metadata": {},
   "outputs": [],
   "source": [
    "med = np.median(img)\n",
    "low = int(max(0, 0.7*med))\n",
    "up = int(min(255,1.3*med))"
   ]
  },
  {
   "cell_type": "code",
   "execution_count": 75,
   "metadata": {},
   "outputs": [
    {
     "data": {
      "text/plain": [
       "<matplotlib.image.AxesImage at 0x1f121136160>"
      ]
     },
     "execution_count": 75,
     "metadata": {},
     "output_type": "execute_result"
    },
    {
     "data": {
      "image/png": "[encoded data removed]",
      "text/plain": [
       "<Figure size 432x288 with 1 Axes>"
      ]
     },
     "metadata": {
      "needs_background": "light"
     },
     "output_type": "display_data"
    }
   ],
   "source": [
    "edges = cv2.Canny(img,low+100,up+100)  # Applying Canny detection\n",
    "plt.imshow(edges,cmap='gray')"
   ]
  },
  {
   "cell_type": "code",
   "execution_count": 76,
   "metadata": {},
   "outputs": [
    {
     "data": {
      "text/plain": [
       "<matplotlib.image.AxesImage at 0x1f12118a6a0>"
      ]
     },
     "execution_count": 76,
     "metadata": {},
     "output_type": "execute_result"
    },
    {
     "data": {
      "image/png": "[encoded data removed]",
      "text/plain": [
       "<Figure size 432x288 with 1 Axes>"
      ]
     },
     "metadata": {
      "needs_background": "light"
     },
     "output_type": "display_data"
    }
   ],
   "source": [
    "rho = 1\n",
    "theta = 3*np.pi/180\n",
    "threshold = 250\n",
    "min_line_length = 20\n",
    "max_line_gap = 1920\n",
    "\n",
    "# Run Hough on the edge-detected image \n",
    "lines = cv2.HoughLinesP(edges, rho,theta, threshold, np.array([]), min_line_length, max_line_gap)\n",
    "blank_image2 = np.zeros(shape = [1500,1920,3], dtype = np.uint8)  # creating a blank_image to draw lines on \n",
    "\n",
    "# Iterate over the output \"lines\" and draw lines on the blank_image\n",
    "for line in lines:\n",
    "    for x1,y1,x2,y2 in line:\n",
    "        cv2.line(blank_image2, (x1,y1), (x2,y2), [255,0,0], 2)\n",
    "        \n",
    "plt.imshow(blank_image2, cmap = 'gray')  "
   ]
  },
  {
   "cell_type": "code",
   "execution_count": 77,
   "metadata": {},
   "outputs": [
    {
     "data": {
      "text/plain": [
       "300"
      ]
     },
     "execution_count": 77,
     "metadata": {},
     "output_type": "execute_result"
    }
   ],
   "source": [
    "len(lines)"
   ]
  },
  {
   "cell_type": "code",
   "execution_count": 78,
   "metadata": {},
   "outputs": [],
   "source": [
    "# Since many lines are overlapping on each other, I used 2 units as thickness of sheet (or) the dustance between two lines."
   ]
  },
  {
   "cell_type": "code",
   "execution_count": 79,
   "metadata": {},
   "outputs": [
    {
     "data": {
      "text/plain": [
       "<matplotlib.image.AxesImage at 0x1f1211f56a0>"
      ]
     },
     "execution_count": 79,
     "metadata": {},
     "output_type": "execute_result"
    },
    {
     "data": {
      "image/png": "[encoded data removed]",
      "text/plain": [
       "<Figure size 432x288 with 1 Axes>"
      ]
     },
     "metadata": {
      "needs_background": "light"
     },
     "output_type": "display_data"
    }
   ],
   "source": [
    "rho = 1\n",
    "theta = 3*np.pi/180\n",
    "threshold = 250\n",
    "min_line_length = 20\n",
    "max_line_gap = 1920\n",
    "\n",
    "# Run Hough on the edge-detected image \n",
    "lines = cv2.HoughLinesP(edges, rho,theta, threshold, np.array([]), min_line_length, max_line_gap)\n",
    "blank_image2 = np.zeros(shape = [1500,1920,3], dtype = np.uint8)    # creating a blank_image to draw lines on \n",
    "lines = lines.reshape((-1,4))\n",
    "lines = lines[lines[:,0].argsort()]   # sorting the lines\n",
    "perfectLines = []\n",
    "prevx1 = 0\n",
    "\n",
    "# Iterate over the output \"lines\" and draw lines on the blank_image\n",
    "for x1,y1,x2,y2 in lines:\n",
    "    if x1 > (prevx1+2):      # assuming the thickness of sheet is 2 units\n",
    "        cv2.line(blank_image2, (x1,y1), (x2,y2), [255,0,0], 2)\n",
    "        prevx1 = x1\n",
    "        perfectLines.append(x1)\n",
    "plt.imshow(blank_image2, cmap = 'gray')   "
   ]
  },
  {
   "cell_type": "code",
   "execution_count": 80,
   "metadata": {},
   "outputs": [
    {
     "name": "stdout",
     "output_type": "stream",
     "text": [
      "Number of lines which are two units apart are 169\n"
     ]
    }
   ],
   "source": [
    "print('Number of lines which are two units apart are',len(perfectLines))"
   ]
  },
  {
   "cell_type": "code",
   "execution_count": null,
   "metadata": {},
   "outputs": [],
   "source": []
  },
  {
   "cell_type": "code",
   "execution_count": null,
   "metadata": {},
   "outputs": [],
   "source": []
  },
  {
   "cell_type": "code",
   "execution_count": null,
   "metadata": {},
   "outputs": [],
   "source": []
  }
 ],
 "metadata": {
  "kernelspec": {
   "display_name": "Python 3",
   "language": "python",
   "name": "python3"
  },
  "language_info": {
   "codemirror_mode": {
    "name": "ipython",
    "version": 3
   },
   "file_extension": ".py",
   "mimetype": "text/x-python",
   "name": "python",
   "nbconvert_exporter": "python",
   "pygments_lexer": "ipython3",
   "version": "3.6.6"
  }
 },
 "nbformat": 4,
 "nbformat_minor": 2
}
